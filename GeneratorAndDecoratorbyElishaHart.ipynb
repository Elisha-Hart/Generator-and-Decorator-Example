{
 "cells": [
  {
   "cell_type": "code",
   "execution_count": 26,
   "id": "a511b9ca-3b5a-44d7-9d88-607d87c9dcda",
   "metadata": {},
   "outputs": [
    {
     "name": "stdout",
     "output_type": "stream",
     "text": [
      "0\n",
      "1\n",
      "2\n",
      "3\n",
      "4\n"
     ]
    }
   ],
   "source": [
    "def func_gen():  ### Generator\n",
    "    i = 0\n",
    "    while i<5:\n",
    "        yield i\n",
    "        \n",
    "        i += 1\n",
    "\n",
    "values = func_gen()\n",
    "\n",
    "for i in values:\n",
    "   print(i)"
   ]
  },
  {
   "cell_type": "code",
   "execution_count": 8,
   "id": "83891fcb-3ee7-4025-b605-e1cba4868950",
   "metadata": {},
   "outputs": [
    {
     "name": "stdout",
     "output_type": "stream",
     "text": [
      "Not a valid voter\n"
     ]
    }
   ],
   "source": [
    "def outer(func):   ### Decorator\n",
    "    \n",
    "    def inner(age):\n",
    "        if age > 18:\n",
    "            print('Valid Voter')\n",
    "        else:\n",
    "            func(age)\n",
    "    return inner\n",
    "\n",
    "@outer\n",
    "def voters(age):\n",
    "    print('Not a valid voter')\n",
    "\n",
    "voters(10)\n",
    "\n",
    "            \n",
    "        "
   ]
  },
  {
   "cell_type": "code",
   "execution_count": 27,
   "id": "68dc3052-fce1-4b5f-81f0-0d39810baba2",
   "metadata": {},
   "outputs": [
    {
     "name": "stdout",
     "output_type": "stream",
     "text": [
      "1.125\n"
     ]
    }
   ],
   "source": [
    "def smart_division(func):\n",
    "    def inner(x, y):\n",
    "        if y == 0:\n",
    "            print('Division by 0 is not possible')\n",
    "            \n",
    "            return\n",
    "        else:\n",
    "            return func(x,y)\n",
    "    return inner\n",
    "\n",
    "@smart_division\n",
    "\n",
    "def division(a,b):\n",
    "    print(a/b)\n",
    "    \n",
    "division(9, 8)"
   ]
  },
  {
   "cell_type": "code",
   "execution_count": 25,
   "id": "3ae6ad0e-2050-47e4-b8d9-959f01efd7e6",
   "metadata": {},
   "outputs": [
    {
     "name": "stdout",
     "output_type": "stream",
     "text": [
      "10 10\n"
     ]
    }
   ],
   "source": [
    "a = 10\n",
    "b = 10\n",
    "\n",
    "print(a, b)\n",
    "\n"
   ]
  },
  {
   "cell_type": "code",
   "execution_count": null,
   "id": "bfb5735b-63d2-48c1-be04-be33458fd53e",
   "metadata": {},
   "outputs": [],
   "source": []
  }
 ],
 "metadata": {
  "kernelspec": {
   "display_name": "anaconda-2022.05-py39",
   "language": "python",
   "name": "conda-env-anaconda-2022.05-py39-py"
  },
  "language_info": {
   "codemirror_mode": {
    "name": "ipython",
    "version": 3
   },
   "file_extension": ".py",
   "mimetype": "text/x-python",
   "name": "python",
   "nbconvert_exporter": "python",
   "pygments_lexer": "ipython3",
   "version": "3.9.12"
  }
 },
 "nbformat": 4,
 "nbformat_minor": 5
}
